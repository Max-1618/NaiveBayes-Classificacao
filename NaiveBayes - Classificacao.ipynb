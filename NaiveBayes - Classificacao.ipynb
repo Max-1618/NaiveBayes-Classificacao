{
 "cells": [
  {
   "cell_type": "markdown",
   "metadata": {},
   "source": [
    "# Naïve Bayes - Classificação\n",
    "\n",
    "Como alternativa ao modelo NB foram criados modelos utilizando o algoritmo Random Forest"
   ]
  },
  {
   "cell_type": "markdown",
   "metadata": {},
   "source": [
    "### Descrição do dataset"
   ]
  },
  {
   "cell_type": "code",
   "execution_count": null,
   "metadata": {},
   "outputs": [],
   "source": [
    "# Sex: male or female;\n",
    "# Age: Age of the patient;\n",
    "# Current Smoker: whether or not the patient is a current smoker; \n",
    "# Cigs Per Day: the number of cigarettes that the person smoked on average in one day; \n",
    "# BP Meds: whether or not the patient was on blood pressure medication; \n",
    "# Prevalent Stroke: whether or not the patient had previously had a stroke; \n",
    "# Prevalent Hyp: whether or not the patient was hypertensive; \n",
    "# Diabetes: whether or not the patient had diabetes; \n",
    "# Tot Chol: total cholesterol level; \n",
    "# Sys BP: systolic blood pressure; \n",
    "# Dia BP: diastolic blood pressure; \n",
    "# BMI: Body Mass Index; \n",
    "# Heart Rate: heart rate; \n",
    "# Glucose: glucose level; \n",
    "# 10 year risk of coronary heart disease CHD (binary: “1”, means “Yes”, “0” means “No”)."
   ]
  },
  {
   "cell_type": "markdown",
   "metadata": {},
   "source": [
    "### Objetivo \n",
    "Criar um modelo de classificação para prever a presença de doença coronariana "
   ]
  },
  {
   "cell_type": "code",
   "execution_count": 1,
   "metadata": {},
   "outputs": [],
   "source": [
    "# Carregando os módulos\n",
    "import numpy as np\n",
    "import pandas as pd\n",
    "import matplotlib.pyplot as plt\n",
    "import seaborn as sns\n",
    "%matplotlib inline"
   ]
  },
  {
   "cell_type": "code",
   "execution_count": 2,
   "metadata": {},
   "outputs": [
    {
     "data": {
      "text/html": [
       "<div>\n",
       "<style scoped>\n",
       "    .dataframe tbody tr th:only-of-type {\n",
       "        vertical-align: middle;\n",
       "    }\n",
       "\n",
       "    .dataframe tbody tr th {\n",
       "        vertical-align: top;\n",
       "    }\n",
       "\n",
       "    .dataframe thead th {\n",
       "        text-align: right;\n",
       "    }\n",
       "</style>\n",
       "<table border=\"1\" class=\"dataframe\">\n",
       "  <thead>\n",
       "    <tr style=\"text-align: right;\">\n",
       "      <th></th>\n",
       "      <th>male</th>\n",
       "      <th>age</th>\n",
       "      <th>education</th>\n",
       "      <th>currentSmoker</th>\n",
       "      <th>cigsPerDay</th>\n",
       "      <th>BPMeds</th>\n",
       "      <th>prevalentStroke</th>\n",
       "      <th>prevalentHyp</th>\n",
       "      <th>diabetes</th>\n",
       "      <th>totChol</th>\n",
       "      <th>sysBP</th>\n",
       "      <th>diaBP</th>\n",
       "      <th>BMI</th>\n",
       "      <th>heartRate</th>\n",
       "      <th>glucose</th>\n",
       "      <th>TenYearCHD</th>\n",
       "    </tr>\n",
       "  </thead>\n",
       "  <tbody>\n",
       "    <tr>\n",
       "      <th>0</th>\n",
       "      <td>1</td>\n",
       "      <td>39</td>\n",
       "      <td>4.0</td>\n",
       "      <td>0</td>\n",
       "      <td>0.0</td>\n",
       "      <td>0.0</td>\n",
       "      <td>0</td>\n",
       "      <td>0</td>\n",
       "      <td>0</td>\n",
       "      <td>195.0</td>\n",
       "      <td>106.0</td>\n",
       "      <td>70.0</td>\n",
       "      <td>26.97</td>\n",
       "      <td>80.0</td>\n",
       "      <td>77.0</td>\n",
       "      <td>0</td>\n",
       "    </tr>\n",
       "    <tr>\n",
       "      <th>1</th>\n",
       "      <td>0</td>\n",
       "      <td>46</td>\n",
       "      <td>2.0</td>\n",
       "      <td>0</td>\n",
       "      <td>0.0</td>\n",
       "      <td>0.0</td>\n",
       "      <td>0</td>\n",
       "      <td>0</td>\n",
       "      <td>0</td>\n",
       "      <td>250.0</td>\n",
       "      <td>121.0</td>\n",
       "      <td>81.0</td>\n",
       "      <td>28.73</td>\n",
       "      <td>95.0</td>\n",
       "      <td>76.0</td>\n",
       "      <td>0</td>\n",
       "    </tr>\n",
       "    <tr>\n",
       "      <th>2</th>\n",
       "      <td>1</td>\n",
       "      <td>48</td>\n",
       "      <td>1.0</td>\n",
       "      <td>1</td>\n",
       "      <td>20.0</td>\n",
       "      <td>0.0</td>\n",
       "      <td>0</td>\n",
       "      <td>0</td>\n",
       "      <td>0</td>\n",
       "      <td>245.0</td>\n",
       "      <td>127.5</td>\n",
       "      <td>80.0</td>\n",
       "      <td>25.34</td>\n",
       "      <td>75.0</td>\n",
       "      <td>70.0</td>\n",
       "      <td>0</td>\n",
       "    </tr>\n",
       "    <tr>\n",
       "      <th>3</th>\n",
       "      <td>0</td>\n",
       "      <td>61</td>\n",
       "      <td>3.0</td>\n",
       "      <td>1</td>\n",
       "      <td>30.0</td>\n",
       "      <td>0.0</td>\n",
       "      <td>0</td>\n",
       "      <td>1</td>\n",
       "      <td>0</td>\n",
       "      <td>225.0</td>\n",
       "      <td>150.0</td>\n",
       "      <td>95.0</td>\n",
       "      <td>28.58</td>\n",
       "      <td>65.0</td>\n",
       "      <td>103.0</td>\n",
       "      <td>1</td>\n",
       "    </tr>\n",
       "    <tr>\n",
       "      <th>4</th>\n",
       "      <td>0</td>\n",
       "      <td>46</td>\n",
       "      <td>3.0</td>\n",
       "      <td>1</td>\n",
       "      <td>23.0</td>\n",
       "      <td>0.0</td>\n",
       "      <td>0</td>\n",
       "      <td>0</td>\n",
       "      <td>0</td>\n",
       "      <td>285.0</td>\n",
       "      <td>130.0</td>\n",
       "      <td>84.0</td>\n",
       "      <td>23.10</td>\n",
       "      <td>85.0</td>\n",
       "      <td>85.0</td>\n",
       "      <td>0</td>\n",
       "    </tr>\n",
       "  </tbody>\n",
       "</table>\n",
       "</div>"
      ],
      "text/plain": [
       "   male  age  education  currentSmoker  cigsPerDay  BPMeds  prevalentStroke  \\\n",
       "0     1   39        4.0              0         0.0     0.0                0   \n",
       "1     0   46        2.0              0         0.0     0.0                0   \n",
       "2     1   48        1.0              1        20.0     0.0                0   \n",
       "3     0   61        3.0              1        30.0     0.0                0   \n",
       "4     0   46        3.0              1        23.0     0.0                0   \n",
       "\n",
       "   prevalentHyp  diabetes  totChol  sysBP  diaBP    BMI  heartRate  glucose  \\\n",
       "0             0         0    195.0  106.0   70.0  26.97       80.0     77.0   \n",
       "1             0         0    250.0  121.0   81.0  28.73       95.0     76.0   \n",
       "2             0         0    245.0  127.5   80.0  25.34       75.0     70.0   \n",
       "3             1         0    225.0  150.0   95.0  28.58       65.0    103.0   \n",
       "4             0         0    285.0  130.0   84.0  23.10       85.0     85.0   \n",
       "\n",
       "   TenYearCHD  \n",
       "0           0  \n",
       "1           0  \n",
       "2           0  \n",
       "3           1  \n",
       "4           0  "
      ]
     },
     "execution_count": 2,
     "metadata": {},
     "output_type": "execute_result"
    }
   ],
   "source": [
    "# Carregando o dataset\n",
    "dados = pd.read_csv('framingham.csv')\n",
    "dados.head()"
   ]
  },
  {
   "cell_type": "code",
   "execution_count": 3,
   "metadata": {},
   "outputs": [
    {
     "data": {
      "text/plain": [
       "(4238, 16)"
      ]
     },
     "execution_count": 3,
     "metadata": {},
     "output_type": "execute_result"
    }
   ],
   "source": [
    "# Verificando o número de observações e variáveis\n",
    "dados.shape"
   ]
  },
  {
   "cell_type": "markdown",
   "metadata": {},
   "source": [
    "### Pré-processamento"
   ]
  },
  {
   "cell_type": "code",
   "execution_count": 4,
   "metadata": {},
   "outputs": [
    {
     "data": {
      "text/plain": [
       "male                 0\n",
       "age                  0\n",
       "education          105\n",
       "currentSmoker        0\n",
       "cigsPerDay          29\n",
       "BPMeds              53\n",
       "prevalentStroke      0\n",
       "prevalentHyp         0\n",
       "diabetes             0\n",
       "totChol             50\n",
       "sysBP                0\n",
       "diaBP                0\n",
       "BMI                 19\n",
       "heartRate            1\n",
       "glucose            388\n",
       "TenYearCHD           0\n",
       "dtype: int64"
      ]
     },
     "execution_count": 4,
     "metadata": {},
     "output_type": "execute_result"
    }
   ],
   "source": [
    "# Verificando a presença de dados missing\n",
    "dados.isnull().sum()"
   ]
  },
  {
   "cell_type": "code",
   "execution_count": 5,
   "metadata": {},
   "outputs": [],
   "source": [
    "# Eliminando os dados missing\n",
    "dados.dropna(inplace=True)"
   ]
  },
  {
   "cell_type": "code",
   "execution_count": 6,
   "metadata": {},
   "outputs": [
    {
     "data": {
      "text/plain": [
       "0    3099\n",
       "1     557\n",
       "Name: TenYearCHD, dtype: int64"
      ]
     },
     "execution_count": 6,
     "metadata": {},
     "output_type": "execute_result"
    }
   ],
   "source": [
    "# Verificando a distribuição das classes (valores absolutos)\n",
    "dados['TenYearCHD'].value_counts()"
   ]
  },
  {
   "cell_type": "code",
   "execution_count": 7,
   "metadata": {},
   "outputs": [
    {
     "data": {
      "text/plain": [
       "0    0.847648\n",
       "1    0.152352\n",
       "Name: TenYearCHD, dtype: float64"
      ]
     },
     "execution_count": 7,
     "metadata": {},
     "output_type": "execute_result"
    }
   ],
   "source": [
    "# Verificando a distribuição das classes (percentuais)\n",
    "dados['TenYearCHD'].value_counts(normalize=True)"
   ]
  },
  {
   "cell_type": "code",
   "execution_count": 8,
   "metadata": {},
   "outputs": [
    {
     "data": {
      "text/html": [
       "<div>\n",
       "<style scoped>\n",
       "    .dataframe tbody tr th:only-of-type {\n",
       "        vertical-align: middle;\n",
       "    }\n",
       "\n",
       "    .dataframe tbody tr th {\n",
       "        vertical-align: top;\n",
       "    }\n",
       "\n",
       "    .dataframe thead th {\n",
       "        text-align: right;\n",
       "    }\n",
       "</style>\n",
       "<table border=\"1\" class=\"dataframe\">\n",
       "  <thead>\n",
       "    <tr style=\"text-align: right;\">\n",
       "      <th></th>\n",
       "      <th>male</th>\n",
       "      <th>age</th>\n",
       "      <th>education</th>\n",
       "      <th>currentSmoker</th>\n",
       "      <th>cigsPerDay</th>\n",
       "      <th>BPMeds</th>\n",
       "      <th>prevalentStroke</th>\n",
       "      <th>prevalentHyp</th>\n",
       "      <th>diabetes</th>\n",
       "      <th>totChol</th>\n",
       "      <th>sysBP</th>\n",
       "      <th>diaBP</th>\n",
       "      <th>BMI</th>\n",
       "      <th>heartRate</th>\n",
       "      <th>glucose</th>\n",
       "    </tr>\n",
       "  </thead>\n",
       "  <tbody>\n",
       "    <tr>\n",
       "      <th>0</th>\n",
       "      <td>1</td>\n",
       "      <td>39</td>\n",
       "      <td>4.0</td>\n",
       "      <td>0</td>\n",
       "      <td>0.0</td>\n",
       "      <td>0.0</td>\n",
       "      <td>0</td>\n",
       "      <td>0</td>\n",
       "      <td>0</td>\n",
       "      <td>195.0</td>\n",
       "      <td>106.0</td>\n",
       "      <td>70.0</td>\n",
       "      <td>26.97</td>\n",
       "      <td>80.0</td>\n",
       "      <td>77.0</td>\n",
       "    </tr>\n",
       "    <tr>\n",
       "      <th>1</th>\n",
       "      <td>0</td>\n",
       "      <td>46</td>\n",
       "      <td>2.0</td>\n",
       "      <td>0</td>\n",
       "      <td>0.0</td>\n",
       "      <td>0.0</td>\n",
       "      <td>0</td>\n",
       "      <td>0</td>\n",
       "      <td>0</td>\n",
       "      <td>250.0</td>\n",
       "      <td>121.0</td>\n",
       "      <td>81.0</td>\n",
       "      <td>28.73</td>\n",
       "      <td>95.0</td>\n",
       "      <td>76.0</td>\n",
       "    </tr>\n",
       "    <tr>\n",
       "      <th>2</th>\n",
       "      <td>1</td>\n",
       "      <td>48</td>\n",
       "      <td>1.0</td>\n",
       "      <td>1</td>\n",
       "      <td>20.0</td>\n",
       "      <td>0.0</td>\n",
       "      <td>0</td>\n",
       "      <td>0</td>\n",
       "      <td>0</td>\n",
       "      <td>245.0</td>\n",
       "      <td>127.5</td>\n",
       "      <td>80.0</td>\n",
       "      <td>25.34</td>\n",
       "      <td>75.0</td>\n",
       "      <td>70.0</td>\n",
       "    </tr>\n",
       "    <tr>\n",
       "      <th>3</th>\n",
       "      <td>0</td>\n",
       "      <td>61</td>\n",
       "      <td>3.0</td>\n",
       "      <td>1</td>\n",
       "      <td>30.0</td>\n",
       "      <td>0.0</td>\n",
       "      <td>0</td>\n",
       "      <td>1</td>\n",
       "      <td>0</td>\n",
       "      <td>225.0</td>\n",
       "      <td>150.0</td>\n",
       "      <td>95.0</td>\n",
       "      <td>28.58</td>\n",
       "      <td>65.0</td>\n",
       "      <td>103.0</td>\n",
       "    </tr>\n",
       "    <tr>\n",
       "      <th>4</th>\n",
       "      <td>0</td>\n",
       "      <td>46</td>\n",
       "      <td>3.0</td>\n",
       "      <td>1</td>\n",
       "      <td>23.0</td>\n",
       "      <td>0.0</td>\n",
       "      <td>0</td>\n",
       "      <td>0</td>\n",
       "      <td>0</td>\n",
       "      <td>285.0</td>\n",
       "      <td>130.0</td>\n",
       "      <td>84.0</td>\n",
       "      <td>23.10</td>\n",
       "      <td>85.0</td>\n",
       "      <td>85.0</td>\n",
       "    </tr>\n",
       "  </tbody>\n",
       "</table>\n",
       "</div>"
      ],
      "text/plain": [
       "   male  age  education  currentSmoker  cigsPerDay  BPMeds  prevalentStroke  \\\n",
       "0     1   39        4.0              0         0.0     0.0                0   \n",
       "1     0   46        2.0              0         0.0     0.0                0   \n",
       "2     1   48        1.0              1        20.0     0.0                0   \n",
       "3     0   61        3.0              1        30.0     0.0                0   \n",
       "4     0   46        3.0              1        23.0     0.0                0   \n",
       "\n",
       "   prevalentHyp  diabetes  totChol  sysBP  diaBP    BMI  heartRate  glucose  \n",
       "0             0         0    195.0  106.0   70.0  26.97       80.0     77.0  \n",
       "1             0         0    250.0  121.0   81.0  28.73       95.0     76.0  \n",
       "2             0         0    245.0  127.5   80.0  25.34       75.0     70.0  \n",
       "3             1         0    225.0  150.0   95.0  28.58       65.0    103.0  \n",
       "4             0         0    285.0  130.0   84.0  23.10       85.0     85.0  "
      ]
     },
     "execution_count": 8,
     "metadata": {},
     "output_type": "execute_result"
    }
   ],
   "source": [
    "# Criando o conjunto de dados preditores\n",
    "dados_var = dados.iloc[:,0:15]\n",
    "dados_var.head()"
   ]
  },
  {
   "cell_type": "code",
   "execution_count": 9,
   "metadata": {},
   "outputs": [
    {
     "data": {
      "text/plain": [
       "0    0\n",
       "1    0\n",
       "2    0\n",
       "3    1\n",
       "4    0\n",
       "Name: TenYearCHD, dtype: int64"
      ]
     },
     "execution_count": 9,
     "metadata": {},
     "output_type": "execute_result"
    }
   ],
   "source": [
    "# Criando o conjunto de dados de saída (alvo)\n",
    "dados_alvo = dados.iloc[:,15]\n",
    "dados_alvo.head()"
   ]
  },
  {
   "cell_type": "markdown",
   "metadata": {},
   "source": [
    "### Criando os conjuntos de treinamento e teste"
   ]
  },
  {
   "cell_type": "code",
   "execution_count": 10,
   "metadata": {},
   "outputs": [],
   "source": [
    "from sklearn.model_selection import train_test_split \n",
    "treino1, teste1, treino1_classes, teste1_classes = train_test_split(dados_var, \n",
    "                                                              dados_alvo,\n",
    "                                                              stratify = dados_alvo,\n",
    "                                                              test_size=0.3, random_state=123) "
   ]
  },
  {
   "cell_type": "code",
   "execution_count": 11,
   "metadata": {},
   "outputs": [
    {
     "name": "stdout",
     "output_type": "stream",
     "text": [
      "(2559, 15)\n",
      "(1097, 15)\n"
     ]
    }
   ],
   "source": [
    "# Verificando os tamanhos dos conjuntos de treino e teste\n",
    "print(treino1.shape)\n",
    "print(teste1.shape)"
   ]
  },
  {
   "cell_type": "code",
   "execution_count": 12,
   "metadata": {},
   "outputs": [
    {
     "name": "stdout",
     "output_type": "stream",
     "text": [
      "0    0.847597\n",
      "1    0.152403\n",
      "Name: TenYearCHD, dtype: float64\n",
      "0    0.847767\n",
      "1    0.152233\n",
      "Name: TenYearCHD, dtype: float64\n"
     ]
    }
   ],
   "source": [
    "# Verificando o distribuição das classes para treino e teste\n",
    "print(treino1_classes.value_counts(normalize=True))\n",
    "print(teste1_classes.value_counts(normalize=True))"
   ]
  },
  {
   "cell_type": "markdown",
   "metadata": {},
   "source": [
    "### Criando o modelo de classificação - Naive Bayes Gaussiano"
   ]
  },
  {
   "cell_type": "code",
   "execution_count": 13,
   "metadata": {},
   "outputs": [
    {
     "data": {
      "text/plain": [
       "GaussianNB(priors=None, var_smoothing=1e-09)"
      ]
     },
     "execution_count": 13,
     "metadata": {},
     "output_type": "execute_result"
    }
   ],
   "source": [
    "from sklearn.naive_bayes import GaussianNB\n",
    "gnb = GaussianNB() \n",
    "gnb.fit(treino1, treino1_classes) "
   ]
  },
  {
   "cell_type": "code",
   "execution_count": 14,
   "metadata": {},
   "outputs": [],
   "source": [
    "# Executando as previsões para o conjunto de treino\n",
    "previsoes_treino1 = gnb.predict(treino1)\n",
    "previsoes_treino1_probs = gnb.predict_proba(treino1)[:, 1]"
   ]
  },
  {
   "cell_type": "code",
   "execution_count": 15,
   "metadata": {},
   "outputs": [
    {
     "name": "stdout",
     "output_type": "stream",
     "text": [
      "0.726639358797035\n"
     ]
    }
   ],
   "source": [
    "# Carregando o pacote para avaliação do AUC e curva ROC\n",
    "from sklearn.metrics import roc_auc_score, roc_curve\n",
    "print(roc_auc_score(treino1_classes, previsoes_treino1_probs))"
   ]
  },
  {
   "cell_type": "code",
   "execution_count": 16,
   "metadata": {},
   "outputs": [
    {
     "data": {
      "text/plain": [
       "82.45408362641658"
      ]
     },
     "execution_count": 16,
     "metadata": {},
     "output_type": "execute_result"
    }
   ],
   "source": [
    "from sklearn import metrics \n",
    "metrics.accuracy_score(treino1_classes, previsoes_treino1)*100"
   ]
  },
  {
   "cell_type": "code",
   "execution_count": 17,
   "metadata": {},
   "outputs": [],
   "source": [
    "# Previsões para o conjunto de teste\n",
    "previsoes_teste1 = gnb.predict(teste1)\n",
    "previsoes_teste1_probs = gnb.predict_proba(teste1)[:, 1]"
   ]
  },
  {
   "cell_type": "code",
   "execution_count": 18,
   "metadata": {},
   "outputs": [
    {
     "name": "stdout",
     "output_type": "stream",
     "text": [
      "ROC_AUC:  0.70574013263795\n",
      "Acurácia:  80.67456700091158\n"
     ]
    }
   ],
   "source": [
    "# Análise da ROC_AUC e Acurácia\n",
    "print('ROC_AUC: ', roc_auc_score(teste1_classes, previsoes_teste1_probs))\n",
    "print('Acurácia: ', metrics.accuracy_score(teste1_classes, previsoes_teste1)*100)"
   ]
  },
  {
   "cell_type": "code",
   "execution_count": 19,
   "metadata": {},
   "outputs": [
    {
     "data": {
      "text/plain": [
       "array([[844, 126],\n",
       "       [ 86,  41]], dtype=int64)"
      ]
     },
     "execution_count": 19,
     "metadata": {},
     "output_type": "execute_result"
    }
   ],
   "source": [
    "# Carregando os pacotes para avaliação da matriz de confusão\n",
    "from sklearn.metrics import confusion_matrix\n",
    "confusion_matrix(previsoes_teste1, teste1_classes)"
   ]
  },
  {
   "cell_type": "code",
   "execution_count": 20,
   "metadata": {},
   "outputs": [
    {
     "name": "stdout",
     "output_type": "stream",
     "text": [
      "              precision    recall  f1-score   support\n",
      "\n",
      "           0       0.87      0.91      0.89       930\n",
      "           1       0.32      0.25      0.28       167\n",
      "\n",
      "    accuracy                           0.81      1097\n",
      "   macro avg       0.60      0.58      0.58      1097\n",
      "weighted avg       0.79      0.81      0.80      1097\n",
      "\n"
     ]
    }
   ],
   "source": [
    "# Precisão, Recall e F1-Score\n",
    "from sklearn.metrics import classification_report\n",
    "nome_classes=dados_alvo.unique()\n",
    "print(classification_report(teste1_classes, previsoes_teste1, labels=nome_classes))"
   ]
  },
  {
   "cell_type": "code",
   "execution_count": 22,
   "metadata": {},
   "outputs": [
    {
     "data": {
      "image/png": "[encoded data removed]",
      "text/plain": [
       "<Figure size 360x360 with 1 Axes>"
      ]
     },
     "metadata": {},
     "output_type": "display_data"
    }
   ],
   "source": [
    "# Visualizando a curva ROC (Receiver Operating Characteristic)\n",
    "%matplotlib inline\n",
    "from plot_metric.functions import BinaryClassification\n",
    "bc = BinaryClassification(teste1_classes, previsoes_teste1_probs, labels=[0,1])\n",
    "plt.figure(figsize=(5,5))\n",
    "bc.plot_roc_curve()\n",
    "plt.show()"
   ]
  },
  {
   "cell_type": "markdown",
   "metadata": {},
   "source": [
    "### Alterando as amostras da classe menor (Up-sample)"
   ]
  },
  {
   "cell_type": "code",
   "execution_count": 23,
   "metadata": {},
   "outputs": [],
   "source": [
    "# Separando os dados por tamanho da classe\n",
    "dados_maior = dados[dados['TenYearCHD']==0]\n",
    "dados_menor = dados[dados['TenYearCHD']==1]"
   ]
  },
  {
   "cell_type": "code",
   "execution_count": 24,
   "metadata": {},
   "outputs": [],
   "source": [
    "# Criando amostras (randômicas) baseadas na classe de menor tamanho\n",
    "from sklearn.utils import resample\n",
    "dados_menor_up = resample(dados_menor, \n",
    "                          replace=True,     \n",
    "                          n_samples=2500,    \n",
    "                          random_state=123) "
   ]
  },
  {
   "cell_type": "code",
   "execution_count": 25,
   "metadata": {},
   "outputs": [],
   "source": [
    "# Combinando (concatenando) as classes de maior tamanho com os novos dados gerados\n",
    "dados_up = pd.concat([dados_maior, dados_menor_up])"
   ]
  },
  {
   "cell_type": "code",
   "execution_count": 26,
   "metadata": {},
   "outputs": [
    {
     "data": {
      "text/plain": [
       "0    3099\n",
       "1    2500\n",
       "Name: TenYearCHD, dtype: int64"
      ]
     },
     "execution_count": 26,
     "metadata": {},
     "output_type": "execute_result"
    }
   ],
   "source": [
    "# Verificando a distribuição das classes\n",
    "dados_up['TenYearCHD'].value_counts()"
   ]
  },
  {
   "cell_type": "markdown",
   "metadata": {},
   "source": [
    "#### Criando um novo modelo - versão 2"
   ]
  },
  {
   "cell_type": "code",
   "execution_count": 28,
   "metadata": {},
   "outputs": [
    {
     "data": {
      "text/plain": [
       "array([[807, 509],\n",
       "       [123, 241]], dtype=int64)"
      ]
     },
     "execution_count": 28,
     "metadata": {},
     "output_type": "execute_result"
    }
   ],
   "source": [
    "dados_up_var = dados_up.iloc[:,0:15]\n",
    "dados_up_alvo = dados_up.iloc[:,15]\n",
    "\n",
    "treino2, teste2, treino2_classes, teste2_classes = train_test_split(dados_up_var, \n",
    "                                                              dados_up_alvo,\n",
    "                                                              stratify = dados_up_alvo,\n",
    "                                                              test_size=0.3, random_state=123)\n",
    "gnb2 = GaussianNB() \n",
    "gnb2.fit(treino2, treino2_classes)\n",
    "\n",
    "previsoes_teste2 = gnb2.predict(teste2)\n",
    "previsoes_teste2_probs = gnb2.predict_proba(teste2)[:, 1]\n",
    "\n",
    "confusion_matrix(previsoes_teste2, teste2_classes)"
   ]
  },
  {
   "cell_type": "code",
   "execution_count": 29,
   "metadata": {},
   "outputs": [
    {
     "name": "stdout",
     "output_type": "stream",
     "text": [
      "              precision    recall  f1-score   support\n",
      "\n",
      "           0       0.61      0.87      0.72       930\n",
      "           1       0.66      0.32      0.43       750\n",
      "\n",
      "    accuracy                           0.62      1680\n",
      "   macro avg       0.64      0.59      0.58      1680\n",
      "weighted avg       0.64      0.62      0.59      1680\n",
      "\n"
     ]
    }
   ],
   "source": [
    "nome_classes=dados_up_alvo.unique()\n",
    "print(classification_report(teste2_classes, previsoes_teste2, labels=nome_classes))"
   ]
  },
  {
   "cell_type": "markdown",
   "metadata": {},
   "source": [
    "### Alterando as amostras da classe maior (Down-sample)"
   ]
  },
  {
   "cell_type": "code",
   "execution_count": 30,
   "metadata": {},
   "outputs": [],
   "source": [
    "# Separando os dados por tamanho da classe\n",
    "dados_maior = dados[dados['TenYearCHD']==0]\n",
    "dados_menor = dados[dados['TenYearCHD']==1]"
   ]
  },
  {
   "cell_type": "code",
   "execution_count": 31,
   "metadata": {},
   "outputs": [],
   "source": [
    "# Removendo amostras (randômicas) baseadas na classe de maior tamanho\n",
    "dados_maior_down = resample(dados_maior, \n",
    "                          replace=False,     \n",
    "                          n_samples=600,    \n",
    "                          random_state=123) "
   ]
  },
  {
   "cell_type": "code",
   "execution_count": 32,
   "metadata": {},
   "outputs": [],
   "source": [
    "# Combinando (concatenando) as classes de menor tamanho com os novos dados \n",
    "dados_down = pd.concat([dados_maior_down, dados_menor])"
   ]
  },
  {
   "cell_type": "code",
   "execution_count": 33,
   "metadata": {},
   "outputs": [
    {
     "data": {
      "text/plain": [
       "0    600\n",
       "1    557\n",
       "Name: TenYearCHD, dtype: int64"
      ]
     },
     "execution_count": 33,
     "metadata": {},
     "output_type": "execute_result"
    }
   ],
   "source": [
    "# Verificando a distribuição das classes\n",
    "dados_down['TenYearCHD'].value_counts()"
   ]
  },
  {
   "cell_type": "markdown",
   "metadata": {},
   "source": [
    "#### Criando um novo modelo - versão 3"
   ]
  },
  {
   "cell_type": "code",
   "execution_count": 34,
   "metadata": {},
   "outputs": [
    {
     "data": {
      "text/plain": [
       "array([[163, 120],\n",
       "       [ 17,  48]], dtype=int64)"
      ]
     },
     "execution_count": 34,
     "metadata": {},
     "output_type": "execute_result"
    }
   ],
   "source": [
    "dados_down_var = dados_down.iloc[:,0:15]\n",
    "dados_down_alvo = dados_down.iloc[:,15]\n",
    "\n",
    "treino3, teste3, treino3_classes, teste3_classes = train_test_split(dados_down_var, \n",
    "                                                              dados_down_alvo,\n",
    "                                                              stratify = dados_down_alvo,\n",
    "                                                              test_size=0.3, random_state=123)\n",
    "gnb3 = GaussianNB() \n",
    "gnb3.fit(treino3, treino3_classes)\n",
    "\n",
    "previsoes_teste3 = gnb3.predict(teste3)\n",
    "previsoes_teste3_probs = gnb3.predict_proba(teste3)[:, 1]\n",
    "\n",
    "confusion_matrix(previsoes_teste3, teste3_classes)"
   ]
  },
  {
   "cell_type": "code",
   "execution_count": 35,
   "metadata": {},
   "outputs": [
    {
     "name": "stdout",
     "output_type": "stream",
     "text": [
      "              precision    recall  f1-score   support\n",
      "\n",
      "           0       0.58      0.91      0.70       180\n",
      "           1       0.74      0.29      0.41       168\n",
      "\n",
      "    accuracy                           0.61       348\n",
      "   macro avg       0.66      0.60      0.56       348\n",
      "weighted avg       0.65      0.61      0.56       348\n",
      "\n"
     ]
    }
   ],
   "source": [
    "nome_classes=dados_down_alvo.unique()\n",
    "print(classification_report(teste3_classes, previsoes_teste3, labels=nome_classes))"
   ]
  },
  {
   "cell_type": "markdown",
   "metadata": {},
   "source": [
    "### Tentativas de melhoria de performance"
   ]
  },
  {
   "cell_type": "code",
   "execution_count": 36,
   "metadata": {},
   "outputs": [
    {
     "name": "stdout",
     "output_type": "stream",
     "text": [
      "[0.02904125 0.14719731 0.05768606 0.0207785  0.05244249 0.00765531\n",
      " 0.00347366 0.04951615 0.01169151 0.10305908 0.11566396 0.10401255\n",
      " 0.10135516 0.09613196 0.10029504]\n",
      "Index(['male', 'age', 'education', 'currentSmoker', 'cigsPerDay', 'BPMeds',\n",
      "       'prevalentStroke', 'prevalentHyp', 'diabetes', 'totChol', 'sysBP',\n",
      "       'diaBP', 'BMI', 'heartRate', 'glucose'],\n",
      "      dtype='object')\n"
     ]
    }
   ],
   "source": [
    "# Extração de características - determinando as variáveis mais relevantes \n",
    "from sklearn.ensemble import ExtraTreesClassifier\n",
    "modelo = ExtraTreesClassifier(n_estimators = 1000, random_state = 123)\n",
    "modelo.fit(treino2, treino2_classes) # Usando os conjuntos do melhor modelo\n",
    "print(modelo.feature_importances_)\n",
    "print(treino2.columns)"
   ]
  },
  {
   "cell_type": "code",
   "execution_count": 37,
   "metadata": {},
   "outputs": [],
   "source": [
    "# Eliminando as variáveis menos relevantes\n",
    "treino4 = treino2.drop(columns=['male', 'education', 'currentSmoker', 'cigsPerDay',\n",
    "                               'BPMeds', 'prevalentStroke', 'prevalentHyp', 'diabetes'])"
   ]
  },
  {
   "cell_type": "code",
   "execution_count": 38,
   "metadata": {},
   "outputs": [
    {
     "data": {
      "text/html": [
       "<div>\n",
       "<style scoped>\n",
       "    .dataframe tbody tr th:only-of-type {\n",
       "        vertical-align: middle;\n",
       "    }\n",
       "\n",
       "    .dataframe tbody tr th {\n",
       "        vertical-align: top;\n",
       "    }\n",
       "\n",
       "    .dataframe thead th {\n",
       "        text-align: right;\n",
       "    }\n",
       "</style>\n",
       "<table border=\"1\" class=\"dataframe\">\n",
       "  <thead>\n",
       "    <tr style=\"text-align: right;\">\n",
       "      <th></th>\n",
       "      <th>age</th>\n",
       "      <th>totChol</th>\n",
       "      <th>sysBP</th>\n",
       "      <th>diaBP</th>\n",
       "      <th>BMI</th>\n",
       "      <th>heartRate</th>\n",
       "      <th>glucose</th>\n",
       "    </tr>\n",
       "  </thead>\n",
       "  <tbody>\n",
       "    <tr>\n",
       "      <th>520</th>\n",
       "      <td>59</td>\n",
       "      <td>271.0</td>\n",
       "      <td>117.5</td>\n",
       "      <td>65.0</td>\n",
       "      <td>19.77</td>\n",
       "      <td>70.0</td>\n",
       "      <td>89.0</td>\n",
       "    </tr>\n",
       "    <tr>\n",
       "      <th>919</th>\n",
       "      <td>42</td>\n",
       "      <td>194.0</td>\n",
       "      <td>111.0</td>\n",
       "      <td>67.5</td>\n",
       "      <td>21.34</td>\n",
       "      <td>73.0</td>\n",
       "      <td>47.0</td>\n",
       "    </tr>\n",
       "    <tr>\n",
       "      <th>3225</th>\n",
       "      <td>50</td>\n",
       "      <td>236.0</td>\n",
       "      <td>152.0</td>\n",
       "      <td>92.0</td>\n",
       "      <td>24.47</td>\n",
       "      <td>120.0</td>\n",
       "      <td>67.0</td>\n",
       "    </tr>\n",
       "    <tr>\n",
       "      <th>3731</th>\n",
       "      <td>60</td>\n",
       "      <td>220.0</td>\n",
       "      <td>167.5</td>\n",
       "      <td>110.0</td>\n",
       "      <td>30.41</td>\n",
       "      <td>90.0</td>\n",
       "      <td>84.0</td>\n",
       "    </tr>\n",
       "    <tr>\n",
       "      <th>4119</th>\n",
       "      <td>51</td>\n",
       "      <td>195.0</td>\n",
       "      <td>122.0</td>\n",
       "      <td>72.0</td>\n",
       "      <td>21.51</td>\n",
       "      <td>82.0</td>\n",
       "      <td>64.0</td>\n",
       "    </tr>\n",
       "  </tbody>\n",
       "</table>\n",
       "</div>"
      ],
      "text/plain": [
       "      age  totChol  sysBP  diaBP    BMI  heartRate  glucose\n",
       "520    59    271.0  117.5   65.0  19.77       70.0     89.0\n",
       "919    42    194.0  111.0   67.5  21.34       73.0     47.0\n",
       "3225   50    236.0  152.0   92.0  24.47      120.0     67.0\n",
       "3731   60    220.0  167.5  110.0  30.41       90.0     84.0\n",
       "4119   51    195.0  122.0   72.0  21.51       82.0     64.0"
      ]
     },
     "execution_count": 38,
     "metadata": {},
     "output_type": "execute_result"
    }
   ],
   "source": [
    "treino4.head()"
   ]
  },
  {
   "cell_type": "code",
   "execution_count": 39,
   "metadata": {},
   "outputs": [
    {
     "data": {
      "text/plain": [
       "<matplotlib.axes._subplots.AxesSubplot at 0x13575cc7b8>"
      ]
     },
     "execution_count": 39,
     "metadata": {},
     "output_type": "execute_result"
    },
    {
     "data": {
      "image/png": "[encoded data removed]",
      "text/plain": [
       "<Figure size 432x288 with 2 Axes>"
      ]
     },
     "metadata": {},
     "output_type": "display_data"
    }
   ],
   "source": [
    "# Avaliando as correlações \n",
    "sns.heatmap(treino4.corr(), cmap =\"YlGnBu\", linewidths = 0.1, annot=True) "
   ]
  },
  {
   "cell_type": "code",
   "execution_count": 40,
   "metadata": {},
   "outputs": [],
   "source": [
    "# Eliminando variáveis fortemente correlacionadas\n",
    "treino4 = treino4.drop(columns=['diaBP'])"
   ]
  },
  {
   "cell_type": "code",
   "execution_count": 41,
   "metadata": {},
   "outputs": [
    {
     "data": {
      "text/html": [
       "<div>\n",
       "<style scoped>\n",
       "    .dataframe tbody tr th:only-of-type {\n",
       "        vertical-align: middle;\n",
       "    }\n",
       "\n",
       "    .dataframe tbody tr th {\n",
       "        vertical-align: top;\n",
       "    }\n",
       "\n",
       "    .dataframe thead th {\n",
       "        text-align: right;\n",
       "    }\n",
       "</style>\n",
       "<table border=\"1\" class=\"dataframe\">\n",
       "  <thead>\n",
       "    <tr style=\"text-align: right;\">\n",
       "      <th></th>\n",
       "      <th>age</th>\n",
       "      <th>totChol</th>\n",
       "      <th>sysBP</th>\n",
       "      <th>BMI</th>\n",
       "      <th>heartRate</th>\n",
       "      <th>glucose</th>\n",
       "    </tr>\n",
       "  </thead>\n",
       "  <tbody>\n",
       "    <tr>\n",
       "      <th>count</th>\n",
       "      <td>3919.000000</td>\n",
       "      <td>3919.000000</td>\n",
       "      <td>3919.000000</td>\n",
       "      <td>3919.000000</td>\n",
       "      <td>3919.000000</td>\n",
       "      <td>3919.000000</td>\n",
       "    </tr>\n",
       "    <tr>\n",
       "      <th>mean</th>\n",
       "      <td>51.165093</td>\n",
       "      <td>239.284767</td>\n",
       "      <td>135.879561</td>\n",
       "      <td>26.041000</td>\n",
       "      <td>75.966318</td>\n",
       "      <td>84.333248</td>\n",
       "    </tr>\n",
       "    <tr>\n",
       "      <th>std</th>\n",
       "      <td>8.740461</td>\n",
       "      <td>45.777103</td>\n",
       "      <td>24.384109</td>\n",
       "      <td>4.273407</td>\n",
       "      <td>12.206195</td>\n",
       "      <td>31.970151</td>\n",
       "    </tr>\n",
       "    <tr>\n",
       "      <th>min</th>\n",
       "      <td>32.000000</td>\n",
       "      <td>113.000000</td>\n",
       "      <td>83.500000</td>\n",
       "      <td>15.540000</td>\n",
       "      <td>44.000000</td>\n",
       "      <td>40.000000</td>\n",
       "    </tr>\n",
       "    <tr>\n",
       "      <th>25%</th>\n",
       "      <td>44.000000</td>\n",
       "      <td>208.000000</td>\n",
       "      <td>119.000000</td>\n",
       "      <td>23.140000</td>\n",
       "      <td>67.000000</td>\n",
       "      <td>72.000000</td>\n",
       "    </tr>\n",
       "    <tr>\n",
       "      <th>50%</th>\n",
       "      <td>51.000000</td>\n",
       "      <td>237.000000</td>\n",
       "      <td>131.500000</td>\n",
       "      <td>25.650000</td>\n",
       "      <td>75.000000</td>\n",
       "      <td>78.000000</td>\n",
       "    </tr>\n",
       "    <tr>\n",
       "      <th>75%</th>\n",
       "      <td>59.000000</td>\n",
       "      <td>266.000000</td>\n",
       "      <td>148.000000</td>\n",
       "      <td>28.420000</td>\n",
       "      <td>83.000000</td>\n",
       "      <td>87.500000</td>\n",
       "    </tr>\n",
       "    <tr>\n",
       "      <th>max</th>\n",
       "      <td>69.000000</td>\n",
       "      <td>600.000000</td>\n",
       "      <td>295.000000</td>\n",
       "      <td>51.280000</td>\n",
       "      <td>143.000000</td>\n",
       "      <td>394.000000</td>\n",
       "    </tr>\n",
       "  </tbody>\n",
       "</table>\n",
       "</div>"
      ],
      "text/plain": [
       "               age      totChol        sysBP          BMI    heartRate  \\\n",
       "count  3919.000000  3919.000000  3919.000000  3919.000000  3919.000000   \n",
       "mean     51.165093   239.284767   135.879561    26.041000    75.966318   \n",
       "std       8.740461    45.777103    24.384109     4.273407    12.206195   \n",
       "min      32.000000   113.000000    83.500000    15.540000    44.000000   \n",
       "25%      44.000000   208.000000   119.000000    23.140000    67.000000   \n",
       "50%      51.000000   237.000000   131.500000    25.650000    75.000000   \n",
       "75%      59.000000   266.000000   148.000000    28.420000    83.000000   \n",
       "max      69.000000   600.000000   295.000000    51.280000   143.000000   \n",
       "\n",
       "           glucose  \n",
       "count  3919.000000  \n",
       "mean     84.333248  \n",
       "std      31.970151  \n",
       "min      40.000000  \n",
       "25%      72.000000  \n",
       "50%      78.000000  \n",
       "75%      87.500000  \n",
       "max     394.000000  "
      ]
     },
     "execution_count": 41,
     "metadata": {},
     "output_type": "execute_result"
    }
   ],
   "source": [
    "treino4.describe()"
   ]
  },
  {
   "cell_type": "markdown",
   "metadata": {},
   "source": [
    "#### Criando um novo modelo - versão 4"
   ]
  },
  {
   "cell_type": "code",
   "execution_count": 42,
   "metadata": {},
   "outputs": [
    {
     "data": {
      "text/plain": [
       "GaussianNB(priors=None, var_smoothing=1e-09)"
      ]
     },
     "execution_count": 42,
     "metadata": {},
     "output_type": "execute_result"
    }
   ],
   "source": [
    "treino4_classes = treino2_classes\n",
    "teste4_classes = teste2_classes\n",
    "gnb4 = GaussianNB() \n",
    "gnb4.fit(treino4, treino4_classes) "
   ]
  },
  {
   "cell_type": "code",
   "execution_count": 43,
   "metadata": {},
   "outputs": [],
   "source": [
    "# Eliminando as variáveis menos relevantes do conjunto de teste\n",
    "teste4 = teste2.drop(columns=['male', 'education', 'currentSmoker', 'cigsPerDay',\n",
    "                               'BPMeds', 'prevalentStroke', 'prevalentHyp', 'diabetes',\n",
    "                            'diaBP'])"
   ]
  },
  {
   "cell_type": "code",
   "execution_count": 44,
   "metadata": {},
   "outputs": [
    {
     "data": {
      "text/html": [
       "<div>\n",
       "<style scoped>\n",
       "    .dataframe tbody tr th:only-of-type {\n",
       "        vertical-align: middle;\n",
       "    }\n",
       "\n",
       "    .dataframe tbody tr th {\n",
       "        vertical-align: top;\n",
       "    }\n",
       "\n",
       "    .dataframe thead th {\n",
       "        text-align: right;\n",
       "    }\n",
       "</style>\n",
       "<table border=\"1\" class=\"dataframe\">\n",
       "  <thead>\n",
       "    <tr style=\"text-align: right;\">\n",
       "      <th></th>\n",
       "      <th>age</th>\n",
       "      <th>totChol</th>\n",
       "      <th>sysBP</th>\n",
       "      <th>BMI</th>\n",
       "      <th>heartRate</th>\n",
       "      <th>glucose</th>\n",
       "    </tr>\n",
       "  </thead>\n",
       "  <tbody>\n",
       "    <tr>\n",
       "      <th>771</th>\n",
       "      <td>63</td>\n",
       "      <td>210.0</td>\n",
       "      <td>148.0</td>\n",
       "      <td>24.01</td>\n",
       "      <td>76.0</td>\n",
       "      <td>88.0</td>\n",
       "    </tr>\n",
       "    <tr>\n",
       "      <th>928</th>\n",
       "      <td>58</td>\n",
       "      <td>243.0</td>\n",
       "      <td>106.0</td>\n",
       "      <td>23.72</td>\n",
       "      <td>60.0</td>\n",
       "      <td>80.0</td>\n",
       "    </tr>\n",
       "    <tr>\n",
       "      <th>2665</th>\n",
       "      <td>58</td>\n",
       "      <td>175.0</td>\n",
       "      <td>83.5</td>\n",
       "      <td>29.66</td>\n",
       "      <td>95.0</td>\n",
       "      <td>115.0</td>\n",
       "    </tr>\n",
       "    <tr>\n",
       "      <th>3254</th>\n",
       "      <td>51</td>\n",
       "      <td>342.0</td>\n",
       "      <td>110.0</td>\n",
       "      <td>28.86</td>\n",
       "      <td>72.0</td>\n",
       "      <td>87.0</td>\n",
       "    </tr>\n",
       "    <tr>\n",
       "      <th>3121</th>\n",
       "      <td>38</td>\n",
       "      <td>267.0</td>\n",
       "      <td>179.5</td>\n",
       "      <td>20.44</td>\n",
       "      <td>76.0</td>\n",
       "      <td>67.0</td>\n",
       "    </tr>\n",
       "  </tbody>\n",
       "</table>\n",
       "</div>"
      ],
      "text/plain": [
       "      age  totChol  sysBP    BMI  heartRate  glucose\n",
       "771    63    210.0  148.0  24.01       76.0     88.0\n",
       "928    58    243.0  106.0  23.72       60.0     80.0\n",
       "2665   58    175.0   83.5  29.66       95.0    115.0\n",
       "3254   51    342.0  110.0  28.86       72.0     87.0\n",
       "3121   38    267.0  179.5  20.44       76.0     67.0"
      ]
     },
     "execution_count": 44,
     "metadata": {},
     "output_type": "execute_result"
    }
   ],
   "source": [
    "teste4.head()"
   ]
  },
  {
   "cell_type": "code",
   "execution_count": 45,
   "metadata": {},
   "outputs": [],
   "source": [
    "# Executando as previsões\n",
    "previsoes_teste4 = gnb4.predict(teste4)\n",
    "previsoes_teste4_probs = gnb4.predict_proba(teste4)[:, 1]"
   ]
  },
  {
   "cell_type": "code",
   "execution_count": 46,
   "metadata": {},
   "outputs": [
    {
     "name": "stdout",
     "output_type": "stream",
     "text": [
      "ROC_AUC:  0.7014831541218638\n",
      "Acurácia:  63.27380952380952\n"
     ]
    }
   ],
   "source": [
    "print('ROC_AUC: ',roc_auc_score(teste4_classes, previsoes_teste4_probs))\n",
    "print('Acurácia: ', metrics.accuracy_score(teste4_classes, previsoes_teste4)*100)"
   ]
  },
  {
   "cell_type": "code",
   "execution_count": null,
   "metadata": {},
   "outputs": [],
   "source": [
    "# Matriz de confusão\n",
    "confusion_matrix(previsoes_teste4, teste4_classes)"
   ]
  },
  {
   "cell_type": "code",
   "execution_count": 47,
   "metadata": {},
   "outputs": [
    {
     "name": "stdout",
     "output_type": "stream",
     "text": [
      "              precision    recall  f1-score   support\n",
      "\n",
      "           0       0.63      0.83      0.72       930\n",
      "           1       0.65      0.38      0.48       750\n",
      "\n",
      "    accuracy                           0.63      1680\n",
      "   macro avg       0.64      0.61      0.60      1680\n",
      "weighted avg       0.64      0.63      0.61      1680\n",
      "\n"
     ]
    }
   ],
   "source": [
    "# Avaliação do modelo\n",
    "print(classification_report(teste4_classes, previsoes_teste4, labels=nome_classes))"
   ]
  },
  {
   "cell_type": "code",
   "execution_count": 48,
   "metadata": {},
   "outputs": [
    {
     "data": {
      "image/png": "[encoded data removed]",
      "text/plain": [
       "<Figure size 360x360 with 1 Axes>"
      ]
     },
     "metadata": {},
     "output_type": "display_data"
    }
   ],
   "source": [
    "# Curva ROC\n",
    "from plot_metric.functions import BinaryClassification\n",
    "bc = BinaryClassification(teste4_classes, previsoes_teste4_probs, labels=[0,1])\n",
    "plt.figure(figsize=(5,5))\n",
    "bc.plot_roc_curve()\n",
    "plt.show()"
   ]
  },
  {
   "cell_type": "markdown",
   "metadata": {},
   "source": [
    "### Usando o algoritmo Random Forest -  v1"
   ]
  },
  {
   "cell_type": "code",
   "execution_count": 49,
   "metadata": {},
   "outputs": [
    {
     "name": "stderr",
     "output_type": "stream",
     "text": [
      "[Parallel(n_jobs=-1)]: Using backend ThreadingBackend with 4 concurrent workers.\n",
      "[Parallel(n_jobs=-1)]: Done  42 tasks      | elapsed:    0.1s\n",
      "[Parallel(n_jobs=-1)]: Done 100 out of 100 | elapsed:    0.2s finished\n",
      "[Parallel(n_jobs=4)]: Using backend ThreadingBackend with 4 concurrent workers.\n",
      "[Parallel(n_jobs=4)]: Done  42 tasks      | elapsed:    0.0s\n",
      "[Parallel(n_jobs=4)]: Done 100 out of 100 | elapsed:    0.0s finished\n",
      "[Parallel(n_jobs=4)]: Using backend ThreadingBackend with 4 concurrent workers.\n",
      "[Parallel(n_jobs=4)]: Done  42 tasks      | elapsed:    0.0s\n",
      "[Parallel(n_jobs=4)]: Done 100 out of 100 | elapsed:    0.0s finished\n"
     ]
    },
    {
     "data": {
      "text/plain": [
       "array([[916, 153],\n",
       "       [ 14,  14]], dtype=int64)"
      ]
     },
     "execution_count": 49,
     "metadata": {},
     "output_type": "execute_result"
    }
   ],
   "source": [
    "# Carregando o pacote do classificador Random Forest\n",
    "from sklearn.ensemble import RandomForestClassifier\n",
    "\n",
    "# Criando o modelo Random Forest\n",
    "rf = RandomForestClassifier(n_estimators=100, \n",
    "                               random_state=123, \n",
    "                               max_features = 'sqrt',\n",
    "                               n_jobs=-1, verbose = 1)\n",
    "\n",
    "# Treinando o modelo\n",
    "rf.fit(treino1, treino1_classes)\n",
    "\n",
    "# Executando as previsões (probabilidade)\n",
    "teste_probs_rf = rf.predict_proba(teste1)[:, 1]\n",
    "previsoes_teste_rf = rf.predict(teste1)\n",
    "\n",
    "# Matriz de confusão\n",
    "confusion_matrix(previsoes_teste_rf, teste1_classes)"
   ]
  },
  {
   "cell_type": "code",
   "execution_count": 50,
   "metadata": {},
   "outputs": [
    {
     "name": "stdout",
     "output_type": "stream",
     "text": [
      "              precision    recall  f1-score   support\n",
      "\n",
      "           0       0.86      0.98      0.92       930\n",
      "           1       0.50      0.08      0.14       167\n",
      "\n",
      "    accuracy                           0.85      1097\n",
      "   macro avg       0.68      0.53      0.53      1097\n",
      "weighted avg       0.80      0.85      0.80      1097\n",
      "\n"
     ]
    }
   ],
   "source": [
    "# Precisão, Recall e F1-Score\n",
    "print(classification_report(teste1_classes, previsoes_teste_rf, labels=nome_classes))"
   ]
  },
  {
   "cell_type": "markdown",
   "metadata": {},
   "source": [
    "### Usando o algoritmo Random Forest -  v2"
   ]
  },
  {
   "cell_type": "code",
   "execution_count": 51,
   "metadata": {},
   "outputs": [
    {
     "name": "stderr",
     "output_type": "stream",
     "text": [
      "[Parallel(n_jobs=-1)]: Using backend ThreadingBackend with 4 concurrent workers.\n",
      "[Parallel(n_jobs=-1)]: Done  42 tasks      | elapsed:    0.0s\n",
      "[Parallel(n_jobs=-1)]: Done 100 out of 100 | elapsed:    0.1s finished\n",
      "[Parallel(n_jobs=4)]: Using backend ThreadingBackend with 4 concurrent workers.\n",
      "[Parallel(n_jobs=4)]: Done  42 tasks      | elapsed:    0.0s\n",
      "[Parallel(n_jobs=4)]: Done 100 out of 100 | elapsed:    0.0s finished\n",
      "[Parallel(n_jobs=4)]: Using backend ThreadingBackend with 4 concurrent workers.\n",
      "[Parallel(n_jobs=4)]: Done  42 tasks      | elapsed:    0.0s\n",
      "[Parallel(n_jobs=4)]: Done 100 out of 100 | elapsed:    0.0s finished\n"
     ]
    },
    {
     "data": {
      "text/plain": [
       "array([[885,  25],\n",
       "       [ 45, 725]], dtype=int64)"
      ]
     },
     "execution_count": 51,
     "metadata": {},
     "output_type": "execute_result"
    }
   ],
   "source": [
    "# Carregando o pacote do classificador Random Forest\n",
    "from sklearn.ensemble import RandomForestClassifier\n",
    "\n",
    "# Criando o modelo Random Forest\n",
    "rf = RandomForestClassifier(n_estimators=100, \n",
    "                               random_state=123, \n",
    "                               max_features = 'sqrt',\n",
    "                               n_jobs=-1, verbose = 1)\n",
    "\n",
    "# Treinando o modelo\n",
    "rf.fit(treino2, treino2_classes)\n",
    "\n",
    "# Executando as previsões \n",
    "teste_probs_rf = rf.predict_proba(teste2)[:, 1]\n",
    "previsoes_teste_rf = rf.predict(teste2)\n",
    "\n",
    "# Matriz de confusão\n",
    "confusion_matrix(previsoes_teste_rf, teste2_classes)"
   ]
  },
  {
   "cell_type": "code",
   "execution_count": 52,
   "metadata": {},
   "outputs": [
    {
     "name": "stdout",
     "output_type": "stream",
     "text": [
      "              precision    recall  f1-score   support\n",
      "\n",
      "           0       0.97      0.95      0.96       930\n",
      "           1       0.94      0.97      0.95       750\n",
      "\n",
      "    accuracy                           0.96      1680\n",
      "   macro avg       0.96      0.96      0.96      1680\n",
      "weighted avg       0.96      0.96      0.96      1680\n",
      "\n"
     ]
    }
   ],
   "source": [
    "# Precisão, Recall e F1-Score\n",
    "print(classification_report(teste2_classes, previsoes_teste_rf, labels=nome_classes))"
   ]
  },
  {
   "cell_type": "code",
   "execution_count": 53,
   "metadata": {},
   "outputs": [
    {
     "data": {
      "image/png": "[encoded data removed]",
      "text/plain": [
       "<Figure size 360x360 with 1 Axes>"
      ]
     },
     "metadata": {},
     "output_type": "display_data"
    }
   ],
   "source": [
    "# Curva ROC\n",
    "from plot_metric.functions import BinaryClassification\n",
    "bc = BinaryClassification(teste2_classes, teste_probs_rf, labels=[0,1])\n",
    "plt.figure(figsize=(5,5))\n",
    "bc.plot_roc_curve()\n",
    "plt.show()"
   ]
  },
  {
   "cell_type": "code",
   "execution_count": null,
   "metadata": {},
   "outputs": [],
   "source": []
  }
 ],
 "metadata": {
  "kernelspec": {
   "display_name": "Python 3",
   "language": "python",
   "name": "python3"
  },
  "language_info": {
   "codemirror_mode": {
    "name": "ipython",
    "version": 3
   },
   "file_extension": ".py",
   "mimetype": "text/x-python",
   "name": "python",
   "nbconvert_exporter": "python",
   "pygments_lexer": "ipython3",
   "version": "3.7.3"
  }
 },
 "nbformat": 4,
 "nbformat_minor": 2
}
